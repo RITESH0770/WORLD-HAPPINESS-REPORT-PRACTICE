{
 "cells": [
  {
   "cell_type": "markdown",
   "metadata": {},
   "source": [
    "WORLD HAPPINESS REPORT"
   ]
  },
  {
   "cell_type": "code",
   "execution_count": null,
   "metadata": {},
   "outputs": [],
   "source": [
    "# Importing all the project pre-requisites\n",
    "import pandas as pd\n",
    "import numpy as np\n",
    "import seaborn as sb\n",
    "import matplotlib.pyplot as plt\n",
    "sb.set()\n",
    "\n",
    "# Import essential models and functions from sklearn\n",
    "from sklearn.model_selection import train_test_split\n",
    "from sklearn.model_selection import train_test_split, GridSearchCV\n",
    "from sklearn.linear_model import LinearRegression\n",
    "from sklearn.preprocessing import StandardScaler\n",
    "from sklearn import metrics\n",
    "from sklearn.metrics import confusion_matrix\n",
    "from sklearn.tree import export_graphviz\n",
    "import graphviz\n",
    "\n",
    "# Using Random Forest Classifier\n",
    "from sklearn.ensemble import RandomForestClassifier\n",
    "\n",
    "# Import essential models and functions from plotly\n",
    "import plotly\n",
    "import plotly.offline as py\n",
    "import plotly.graph_objs as go\n",
    "from plotly.offline import download_plotlyjs, init_notebook_mode, plot, iplot\n",
    "\n",
    "# Allows us to use Plotly offline\n",
    "init_notebook_mode(connected=True)"
   ]
  },
  {
   "cell_type": "code",
   "execution_count": null,
   "metadata": {},
   "outputs": [],
   "source": [
    "data1=pd.read_csv(\"data/factor_of_happiness2018.csv\")\n",
    "data2=pd.read_csv(\"data/factor_of_happiness2018(2).csv\")\n",
    "\n",
    "print(\"Data type : \", type(data2))\n",
    "print(\"Data dims : \", data2.shape)"
   ]
  },
  {
   "cell_type": "code",
   "execution_count": null,
   "metadata": {},
   "outputs": [],
   "source": [
    "# Get the overview of the data\n",
    "data2.head()"
   ]
  },
  {
   "cell_type": "code",
   "execution_count": null,
   "metadata": {},
   "outputs": [],
   "source": [
    "# Information about the Variables\n",
    "data2.info()"
   ]
  },
  {
   "cell_type": "code",
   "execution_count": null,
   "metadata": {},
   "outputs": [],
   "source": [
    "# Sort the dataset by Countries instead of Happiness Score\n",
    "data1.sort_values(by = [\"Country\"], inplace = True, ascending = True)\n",
    "data1 = data1.reset_index(drop=True)\n",
    "data1 = pd.DataFrame(data1[:156])\n",
    "data = pd.concat([data1,data2],axis=1)\n",
    "\n",
    "# Convert all Variable Names to UPPERCASE\n",
    "data.columns = data.columns.str.upper()\n",
    "\n",
    "# Remove all spaces and dots from Variable Names\n",
    "data.columns = data.columns.str.replace(\".\",\"\")\n",
    "data.columns = data.columns.str.replace(\" \",\"_\")\n",
    "data.columns = data.columns.str.replace(\":\",\"\")\n",
    "data.columns = data.columns.str.replace(\"+\",\"\")\n",
    "data.columns = data.columns.str.replace(\",\",\"\")"
   ]
  },
  {
   "cell_type": "code",
   "execution_count": null,
   "metadata": {},
   "outputs": [],
   "source": [
    "# Extracting the required variables from the dataframe\n",
    "extracts = [\"COUNTRY\", \"HAPPINESS_SCORE\", \"LOG_OF_GDP_PER_PERSON_2015-2017\", \"GDP_PER_PERSON_2015-2017\", \"HEALTHY_LIFE_EXPECTANCY_2015-2017\", \\\n",
    "            \"SOCIAL_SUPPORT_2015-2017\", \"FREEDOM_TO_MAKE_LIFE_CHOICES_2015-2017\", \\\n",
    "            \"GENEROSITY_2015-2017_WITHOUT_ADJUSTMENT_FOR_GDP_PER_PERSON\", \"PERCEPTIONS_OF_CORRUPTION_2015-2017\"]\n",
    "\n",
    "data = pd.DataFrame(data[extracts])"
   ]
  },
  {
   "cell_type": "code",
   "execution_count": null,
   "metadata": {},
   "outputs": [],
   "source": [
    "# Rename the columns of the dataframe for easier readability\n",
    "data.rename(columns = {'GDP_PER_PERSON_2015-2017': 'GDP_PER_PERSON'}, inplace = True)\n",
    "data.rename(columns = {'LOG_OF_GDP_PER_PERSON_2015-2017': 'LOG_OF_GDP_PER_PERSON'}, inplace = True)\n",
    "data.rename(columns = {'FREEDOM_TO_MAKE_LIFE_CHOICES_2015-2017': 'FREEDOM'}, inplace = True)\n",
    "data.rename(columns = {'HEALTHY_LIFE_EXPECTANCY_2015-2017': 'HEALTHY_LIFE_EXPECTANCY'}, inplace = True)\n",
    "data.rename(columns = {'SOCIAL_SUPPORT_2015-2017': 'SOCIAL_SUPPORT'}, inplace = True)\n",
    "data.rename(columns = {'GENEROSITY_2015-2017_WITHOUT_ADJUSTMENT_FOR_GDP_PER_PERSON': 'GENEROSITY'}, inplace = True)\n",
    "data.rename(columns = {'PERCEPTIONS_OF_CORRUPTION_2015-2017': 'PERCEPTIONS_OF_CORRUPTION'}, inplace = True)"
   ]
  },
  {
   "cell_type": "code",
   "execution_count": null,
   "metadata": {},
   "outputs": [],
   "source": [
    "# Remove duplicate columns (if any)\n",
    "data = data.loc[:,~data.columns.duplicated()]\n",
    "data.head()"
   ]
  },
  {
   "cell_type": "code",
   "execution_count": null,
   "metadata": {},
   "outputs": [],
   "source": [
    "data1 = dict(type = 'choropleth', \n",
    "           locations = data['COUNTRY'],\n",
    "           locationmode = 'country names',\n",
    "           z = data['HAPPINESS_SCORE'], \n",
    "           text = data['COUNTRY'],\n",
    "           colorbar = {'title':'Happiness'})\n",
    "layout = dict(title = 'Happiness Index 2018', \n",
    "             geo = dict(showframe = False, \n",
    "                       projection = {'type': 'mercator'}))\n",
    "choromap3 = go.Figure(data = [data1], layout=layout)\n",
    "iplot(choromap3)"
   ]
  },
  {
   "cell_type": "code",
   "execution_count": null,
   "metadata": {},
   "outputs": [],
   "source": [
    "# Remove rows with missing values\n",
    "data = data.dropna(how='any',axis=0)\n",
    "\n",
    "# After removing missing values, reset the index\n",
    "data = data.reset_index(drop=True)"
   ]
  },
  {
   "cell_type": "code",
   "execution_count": null,
   "metadata": {},
   "outputs": [],
   "source": [
    "# Summary Statistics for all Variables\n",
    "data.describe().round(2)"
   ]
  },
  {
   "cell_type": "code",
   "execution_count": null,
   "metadata": {},
   "outputs": [],
   "source": [
    "# Calculate the complete correlation matrix\n",
    "data.corr().round(2)"
   ]
  },
  {
   "cell_type": "code",
   "execution_count": null,
   "metadata": {},
   "outputs": [],
   "source": [
    "# Heatmap of the Correlation Matrix\n",
    "f, axes = plt.subplots(1, 1, figsize=(12, 8))\n",
    "sb.heatmap(data.corr(), vmin = -1, vmax = 1, annot = True, fmt = \".2f\")"
   ]
  },
  {
   "cell_type": "code",
   "execution_count": null,
   "metadata": {},
   "outputs": [],
   "source": [
    "# Dataframe of the Happiness Score\n",
    "happiness_score = pd.DataFrame(data[\"HAPPINESS_SCORE\"])\n",
    "happiness_score.describe().round(2)"
   ]
  },
  {
   "cell_type": "code",
   "execution_count": null,
   "metadata": {},
   "outputs": [],
   "source": [
    "f,axes = plt.subplots(1,2,figsize=(15,4))\n",
    "sb.distplot(happiness_score,kde=True,hist=True,color=\"g\",ax=axes[0])\n",
    "sb.violinplot(happiness_score,ax=axes[1],color=\"r\")"
   ]
  },
  {
   "cell_type": "code",
   "execution_count": null,
   "metadata": {},
   "outputs": [],
   "source": [
    "# Add our Happiness Category into the Happiness_Score dataframe\n",
    "happiness=[]\n",
    "for i in happiness_score[\"HAPPINESS_SCORE\"]:\n",
    "    if i<4:\n",
    "        happiness.append(\"UNHAPPY\")\n",
    "    elif 4<=i<=6:\n",
    "        happiness.append(\"NORMAL\")\n",
    "    else:\n",
    "        happiness.append(\"HAPPY\")\n",
    "\n",
    "# Join our Hapiness_Score dataframe into the main dataframe\n",
    "pred_happiness = pd.DataFrame(happiness,columns=[\"PREDICTED_HAPPINESS\"])\n",
    "pred_happiness = pd.DataFrame(pred_happiness[\"PREDICTED_HAPPINESS\"].astype('category'))\n",
    "data = pd.concat([data,pred_happiness],axis=1)"
   ]
  },
  {
   "cell_type": "code",
   "execution_count": null,
   "metadata": {},
   "outputs": [],
   "source": [
    "# Remove any duplicate columns (if any)\n",
    "data = data.loc[:,~data.columns.duplicated()]\n",
    "data.head()"
   ]
  },
  {
   "cell_type": "code",
   "execution_count": null,
   "metadata": {},
   "outputs": [],
   "source": [
    "data[\"PREDICTED_HAPPINESS\"].value_counts()"
   ]
  },
  {
   "cell_type": "code",
   "execution_count": null,
   "metadata": {},
   "outputs": [],
   "source": [
    "f, axes = plt.subplots(1, 1, figsize=(5, 4))\n",
    "sb.countplot(data[\"PREDICTED_HAPPINESS\"])\n",
    "plt.xlabel(\"Predicted Happiness\")\n",
    "plt.ylabel(\"Number of Countries\")"
   ]
  },
  {
   "cell_type": "code",
   "execution_count": null,
   "metadata": {},
   "outputs": [],
   "source": []
  }
 ],
 "metadata": {
  "kernelspec": {
   "display_name": "Python 3",
   "language": "python",
   "name": "python3"
  },
  "language_info": {
   "codemirror_mode": {
    "name": "ipython",
    "version": 3
   },
   "file_extension": ".py",
   "mimetype": "text/x-python",
   "name": "python",
   "nbconvert_exporter": "python",
   "pygments_lexer": "ipython3",
   "version": "3.8.5"
  }
 },
 "nbformat": 4,
 "nbformat_minor": 4
}
